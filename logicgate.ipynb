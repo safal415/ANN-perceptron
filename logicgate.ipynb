{
  "nbformat": 4,
  "nbformat_minor": 0,
  "metadata": {
    "colab": {
      "provenance": [],
      "authorship_tag": "ABX9TyPBvLtiZh58Qx9D7rsncJPO",
      "include_colab_link": true
    },
    "kernelspec": {
      "name": "python3",
      "display_name": "Python 3"
    },
    "language_info": {
      "name": "python"
    }
  },
  "cells": [
    {
      "cell_type": "markdown",
      "metadata": {
        "id": "view-in-github",
        "colab_type": "text"
      },
      "source": [
        "<a href=\"https://colab.research.google.com/github/safal415/ANN-perceptron/blob/main/logicgate.ipynb\" target=\"_parent\"><img src=\"https://colab.research.google.com/assets/colab-badge.svg\" alt=\"Open In Colab\"/></a>"
      ]
    },
    {
      "cell_type": "code",
      "execution_count": 7,
      "metadata": {
        "colab": {
          "base_uri": "https://localhost:8080/"
        },
        "id": "n7JWlbi-xIqE",
        "outputId": "529d1985-46dc-45d0-b773-ff3d488df84d"
      },
      "outputs": [
        {
          "output_type": "stream",
          "name": "stdout",
          "text": [
            "\n",
            "AND Gate for 3 inputs:\n",
            "Final Weights: [0.1 0.1 0.1]\n",
            "Final Bias: -0.20000000000000004\n",
            "Accuracy: 100.00%\n",
            "\n",
            "OR Gate for 3 inputs:\n",
            "Final Weights: [0.1 0.1 0.1]\n",
            "Final Bias: -0.1\n",
            "Accuracy: 100.00%\n",
            "\n",
            "AND Gate for 4 inputs:\n",
            "Final Weights: [0.4 0.2 0.1 0.1]\n",
            "Final Bias: -0.7999999999999999\n",
            "Accuracy: 100.00%\n",
            "\n",
            "OR Gate for 4 inputs:\n",
            "Final Weights: [0.1 0.1 0.1 0.1]\n",
            "Final Bias: -0.1\n",
            "Accuracy: 100.00%\n"
          ]
        }
      ],
      "source": [
        "import numpy as np\n",
        "from itertools import product\n",
        "\n",
        "class NInputPerceptron:\n",
        "    def __init__(self, n_inputs, lr=0.1):\n",
        "        self.weights = np.zeros(n_inputs)\n",
        "        self.bias = 0\n",
        "        self.lr = lr\n",
        "\n",
        "    def activation(self, x):\n",
        "        return 1 if x >= 0 else 0\n",
        "\n",
        "    def predict(self, x):\n",
        "        summation = np.dot(x, self.weights) + self.bias\n",
        "        return self.activation(summation)\n",
        "\n",
        "    def train(self, X, y, epochs=100):\n",
        "        for epoch in range(epochs):\n",
        "            for xi, target in zip(X, y):\n",
        "                prediction = self.predict(xi)\n",
        "                error = target - prediction\n",
        "                self.weights += self.lr * error * xi\n",
        "                self.bias += self.lr * error\n",
        "        return self.weights, self.bias\n",
        "\n",
        "    def evaluate(self, X, y):\n",
        "        predictions = np.array([self.predict(xi) for xi in X])\n",
        "        accuracy = np.mean(predictions == y)\n",
        "        return accuracy\n",
        "\n",
        "def generate_truth_table(n):\n",
        "    return np.array(list(product([0, 1], repeat=n)))  # Fixed missing parenthesis\n",
        "\n",
        "def run_n_input_gate(n, gate_type):\n",
        "    X = generate_truth_table(n)\n",
        "    if gate_type == 'AND':\n",
        "        y = np.array([int(np.all(xi)) for xi in X])\n",
        "    elif gate_type == 'OR':\n",
        "        y = np.array([int(np.any(xi)) for xi in X])\n",
        "    else:\n",
        "        raise ValueError(\"Unsupported gate type\")\n",
        "\n",
        "    perceptron = NInputPerceptron(n_inputs=n)\n",
        "    perceptron.train(X, y)\n",
        "    acc = perceptron.evaluate(X, y)\n",
        "\n",
        "    print(f\"\\n{gate_type} Gate for {n} inputs:\")\n",
        "    print(f\"Final Weights: {perceptron.weights}\")\n",
        "    print(f\"Final Bias: {perceptron.bias}\")\n",
        "    print(f\"Accuracy: {acc * 100:.2f}%\")\n",
        "\n",
        "# Test for 3-input AND/OR\n",
        "run_n_input_gate(3, 'AND')\n",
        "run_n_input_gate(3, 'OR')\n",
        "\n",
        "# Test for 4-input AND/OR\n",
        "run_n_input_gate(4, 'AND')\n",
        "run_n_input_gate(4, 'OR')\n"
      ]
    }
  ]
}